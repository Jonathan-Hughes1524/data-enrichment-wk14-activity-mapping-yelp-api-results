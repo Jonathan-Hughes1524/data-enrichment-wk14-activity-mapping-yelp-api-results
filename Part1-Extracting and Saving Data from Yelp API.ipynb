{
 "cells": [
  {
   "cell_type": "markdown",
   "metadata": {
    "id": "8guYh-VR7nlX"
   },
   "source": [
    "# Part 1 - Extracting and Saving Data from Yelp API"
   ]
  },
  {
   "cell_type": "markdown",
   "metadata": {},
   "source": [
    "## Obective"
   ]
  },
  {
   "cell_type": "markdown",
   "metadata": {
    "id": "8guYh-VR7nlX"
   },
   "source": [
    "- For this CodeAlong, we will be working with the Yelp API. \n",
    "- You will use the the Yelp API to search your home town for a cuisine type of your choice.\n",
    "- Next class, we will then use Plotly Express to create a map with the Mapbox API to visualize the results.\n",
    "    \n",
    "    "
   ]
  },
  {
   "cell_type": "markdown",
   "metadata": {
    "id": "8guYh-VR7nlX"
   },
   "source": [
    "## Tools You Will Use\n",
    "- Part 1:\n",
    "    - Yelp API:\n",
    "        - Getting Started: \n",
    "            - https://www.yelp.com/developers/documentation/v3/get_started\n",
    "\n",
    "    - `YelpAPI` python package\n",
    "        -  \"YelpAPI\": https://github.com/gfairchild/yelpapi\n",
    "- Part 2:\n",
    "\n",
    "    - Plotly Express: https://plotly.com/python/getting-started/\n",
    "        - With Mapbox API: https://www.mapbox.com/\n",
    "        - `px.scatter_mapbox` [Documentation](https://plotly.com/python/scattermapbox/): \n",
    "\n",
    "\n"
   ]
  },
  {
   "cell_type": "markdown",
   "metadata": {},
   "source": [
    "### Applying Code From\n",
    "- Efficient API Calls Lesson Link: https://login.codingdojo.com/m/376/12529/88078"
   ]
  },
  {
   "cell_type": "code",
   "execution_count": 1,
   "metadata": {},
   "outputs": [],
   "source": [
    "# Standard Imports\n",
    "import numpy as np\n",
    "import pandas as pd\n",
    "import matplotlib.pyplot as plt\n",
    "import seaborn as sns\n",
    "\n",
    "# Additional Imports\n",
    "import os, json, math, time\n",
    "from yelpapi import YelpAPI\n",
    "from tqdm.notebook import tqdm_notebook"
   ]
  },
  {
   "cell_type": "markdown",
   "metadata": {
    "id": "1l3Z-79nBSX9"
   },
   "source": [
    "## 1. Registering for Required APIs"
   ]
  },
  {
   "cell_type": "markdown",
   "metadata": {
    "id": "1l3Z-79nBSX9"
   },
   "source": [
    "\n",
    "- Yelp: https://www.yelp.com/developers/documentation/v3/get_started\n"
   ]
  },
  {
   "cell_type": "markdown",
   "metadata": {},
   "source": [
    "> Check the official API documentation to know what arguments we can search for: https://www.yelp.com/developers/documentation/v3/business_search"
   ]
  },
  {
   "cell_type": "markdown",
   "metadata": {},
   "source": [
    "### Load Credentials and Create Yelp API Object"
   ]
  },
  {
   "cell_type": "code",
   "execution_count": 2,
   "metadata": {
    "ExecuteTime": {
     "end_time": "2022-03-25T18:20:46.629934Z",
     "start_time": "2022-03-25T18:20:45.915864Z"
    },
    "colab": {
     "base_uri": "https://localhost:8080/"
    },
    "id": "xJYqVvNkE36a",
    "outputId": "67798160-dea2-41fc-9040-2b3833efa560"
   },
   "outputs": [
    {
     "data": {
      "text/plain": [
       "dict_keys(['client_id', 'api_key'])"
      ]
     },
     "execution_count": 2,
     "metadata": {},
     "output_type": "execute_result"
    }
   ],
   "source": [
    "# Load API Credentials\n",
    "with open('/Users/jhugh/.secret/yelp_api.json','r') as f:\n",
    "    login = json.load(f)\n",
    "login.keys()"
   ]
  },
  {
   "cell_type": "code",
   "execution_count": 3,
   "metadata": {},
   "outputs": [],
   "source": [
    "# Instantiate YelpAPI Variable\n",
    "yelp = YelpAPI(login['api_key'],timeout_s=5.0)"
   ]
  },
  {
   "cell_type": "markdown",
   "metadata": {},
   "source": [
    "### Define Search Terms and File Paths"
   ]
  },
  {
   "cell_type": "code",
   "execution_count": 4,
   "metadata": {},
   "outputs": [],
   "source": [
    "# set our API call parameters and filename before the first call\n",
    "location = \"Logan,OH\"\n",
    "term = \"pizza\""
   ]
  },
  {
   "cell_type": "code",
   "execution_count": 7,
   "metadata": {},
   "outputs": [],
   "source": [
    "## Specify fodler for saving data\n",
    "FOLDER = 'Data/'\n",
    "\n",
    "\n",
    "# Specifying JSON_FILE filename (can include a folder)\n",
    "JSON_FILE = FOLDER+('Logan,pizza')"
   ]
  },
  {
   "cell_type": "markdown",
   "metadata": {},
   "source": [
    "### Check if Json File exists and Create it if it doesn't"
   ]
  },
  {
   "cell_type": "code",
   "execution_count": null,
   "metadata": {},
   "outputs": [],
   "source": [
    "## Check if JSON_FILE exists\n",
    "\n",
    "## If it does not exist: \n",
    "    \n",
    "    ## CREATE ANY NEEDED FOLDERS\n",
    "    # Get the Folder Name only\n",
    "if os.path.isfile\n",
    "    \n",
    "    ## If JSON_FILE included a folder:\n",
    "\n",
    "        # create the folder\n",
    "\n",
    "        \n",
    "        \n",
    "    ## INFORM USER AND SAVE EMPTY LIST\n",
    "\n",
    "    \n",
    "    \n",
    "    ## save the first page of results\n",
    "\n",
    "        \n",
    "## If it exists, inform user\n"
   ]
  },
  {
   "cell_type": "markdown",
   "metadata": {},
   "source": [
    "### Load JSON FIle and account for previous results"
   ]
  },
  {
   "cell_type": "code",
   "execution_count": null,
   "metadata": {},
   "outputs": [],
   "source": [
    "## Load previous results and use len of results for offset\n",
    "\n",
    "## set offset based on previous results\n"
   ]
  },
  {
   "cell_type": "markdown",
   "metadata": {},
   "source": [
    "### Make the first API call to get the first page of data"
   ]
  },
  {
   "cell_type": "markdown",
   "metadata": {},
   "source": [
    "- We will use this first result to check:\n",
    "    - how many total results there are?\n",
    "    - Where is the actual data we want to save?\n",
    "    - how many results do we get at a time?\n"
   ]
  },
  {
   "cell_type": "code",
   "execution_count": 13,
   "metadata": {
    "scrolled": false
   },
   "outputs": [],
   "source": [
    "# use our yelp_api variable's search_query method to perform our API call\n",
    "results = yelp.search_query(term = term, location=location)"
   ]
  },
  {
   "cell_type": "code",
   "execution_count": 14,
   "metadata": {
    "ExecuteTime": {
     "end_time": "2022-03-24T20:01:48.867510Z",
     "start_time": "2022-03-24T20:01:48.854746Z"
    },
    "colab": {
     "base_uri": "https://localhost:8080/"
    },
    "id": "Myur3i1KGhPf",
    "outputId": "f447c6f9-596b-41d0-ccda-50af0ce82108"
   },
   "outputs": [
    {
     "data": {
      "text/plain": [
       "{'businesses': [{'id': '3Xg7NgcOJKYPtUjaGaZDwA',\n",
       "   'alias': 'pizza-crossing-logan',\n",
       "   'name': 'Pizza Crossing',\n",
       "   'image_url': 'https://s3-media3.fl.yelpcdn.com/bphoto/lkMsbk4QlA6luQ8NNdb-gw/o.jpg',\n",
       "   'is_closed': False,\n",
       "   'url': 'https://www.yelp.com/biz/pizza-crossing-logan?adjust_creative=l_1zZIAnKO6FPzv5VJxtuQ&utm_campaign=yelp_api_v3&utm_medium=api_v3_business_search&utm_source=l_1zZIAnKO6FPzv5VJxtuQ',\n",
       "   'review_count': 150,\n",
       "   'categories': [{'alias': 'pizza', 'title': 'Pizza'}],\n",
       "   'rating': 4.0,\n",
       "   'coordinates': {'latitude': 39.54067, 'longitude': -82.40677},\n",
       "   'transactions': [],\n",
       "   'price': '$$',\n",
       "   'location': {'address1': '58 N Mulberry St',\n",
       "    'address2': '',\n",
       "    'address3': '',\n",
       "    'city': 'Logan',\n",
       "    'zip_code': '43138',\n",
       "    'country': 'US',\n",
       "    'state': 'OH',\n",
       "    'display_address': ['58 N Mulberry St', 'Logan, OH 43138']},\n",
       "   'phone': '+17403858558',\n",
       "   'display_phone': '(740) 385-8558',\n",
       "   'distance': 681.3090799267927},\n",
       "  {'id': 'Dp0RkgafimTLjX1KRMBx1A',\n",
       "   'alias': 'cristys-pizza-logan',\n",
       "   'name': \"Cristy's Pizza\",\n",
       "   'image_url': 'https://s3-media1.fl.yelpcdn.com/bphoto/jNRynURyEMOwtN22Hpapaw/o.jpg',\n",
       "   'is_closed': False,\n",
       "   'url': 'https://www.yelp.com/biz/cristys-pizza-logan?adjust_creative=l_1zZIAnKO6FPzv5VJxtuQ&utm_campaign=yelp_api_v3&utm_medium=api_v3_business_search&utm_source=l_1zZIAnKO6FPzv5VJxtuQ',\n",
       "   'review_count': 14,\n",
       "   'categories': [{'alias': 'pizza', 'title': 'Pizza'},\n",
       "    {'alias': 'desserts', 'title': 'Desserts'},\n",
       "    {'alias': 'salad', 'title': 'Salad'}],\n",
       "   'rating': 4.5,\n",
       "   'coordinates': {'latitude': 39.5437316894531,\n",
       "    'longitude': -82.4272384643555},\n",
       "   'transactions': ['delivery'],\n",
       "   'price': '$',\n",
       "   'location': {'address1': '1320 W Hunter St',\n",
       "    'address2': '',\n",
       "    'address3': '',\n",
       "    'city': 'Logan',\n",
       "    'zip_code': '43138',\n",
       "    'country': 'US',\n",
       "    'state': 'OH',\n",
       "    'display_address': ['1320 W Hunter St', 'Logan, OH 43138']},\n",
       "   'phone': '+17403801901',\n",
       "   'display_phone': '(740) 380-1901',\n",
       "   'distance': 1640.7611679419729},\n",
       "  {'id': 'Kf0a0Do04qFO0MVslyzScA',\n",
       "   'alias': 'bobs-pizza-house-logan',\n",
       "   'name': \"Bob's Pizza House\",\n",
       "   'image_url': 'https://s3-media4.fl.yelpcdn.com/bphoto/pL3CT1fDFN7BtbT2MltqHg/o.jpg',\n",
       "   'is_closed': False,\n",
       "   'url': 'https://www.yelp.com/biz/bobs-pizza-house-logan?adjust_creative=l_1zZIAnKO6FPzv5VJxtuQ&utm_campaign=yelp_api_v3&utm_medium=api_v3_business_search&utm_source=l_1zZIAnKO6FPzv5VJxtuQ',\n",
       "   'review_count': 18,\n",
       "   'categories': [{'alias': 'pizza', 'title': 'Pizza'}],\n",
       "   'rating': 4.5,\n",
       "   'coordinates': {'latitude': 39.5414886, 'longitude': -82.4186478},\n",
       "   'transactions': ['delivery'],\n",
       "   'price': '$',\n",
       "   'location': {'address1': '758 W Front St',\n",
       "    'address2': '',\n",
       "    'address3': '',\n",
       "    'city': 'Logan',\n",
       "    'zip_code': '43138',\n",
       "    'country': 'US',\n",
       "    'state': 'OH',\n",
       "    'display_address': ['758 W Front St', 'Logan, OH 43138']},\n",
       "   'phone': '+17403856839',\n",
       "   'display_phone': '(740) 385-6839',\n",
       "   'distance': 893.6401927079329},\n",
       "  {'id': 'DQi86dFU8Z-oA9UMabGCTg',\n",
       "   'alias': 'captain-rons-pirate-pizza-logan',\n",
       "   'name': \"Captain Ron's Pirate Pizza\",\n",
       "   'image_url': 'https://s3-media4.fl.yelpcdn.com/bphoto/TqvR1QUniVIF2y1rmpmSOw/o.jpg',\n",
       "   'is_closed': False,\n",
       "   'url': 'https://www.yelp.com/biz/captain-rons-pirate-pizza-logan?adjust_creative=l_1zZIAnKO6FPzv5VJxtuQ&utm_campaign=yelp_api_v3&utm_medium=api_v3_business_search&utm_source=l_1zZIAnKO6FPzv5VJxtuQ',\n",
       "   'review_count': 27,\n",
       "   'categories': [{'alias': 'pizza', 'title': 'Pizza'}],\n",
       "   'rating': 4.0,\n",
       "   'coordinates': {'latitude': 39.4865347692034,\n",
       "    'longitude': -82.4798020113205},\n",
       "   'transactions': ['pickup'],\n",
       "   'location': {'address1': '16757 State Rte 664 S',\n",
       "    'address2': '',\n",
       "    'address3': None,\n",
       "    'city': 'Logan',\n",
       "    'zip_code': '43138',\n",
       "    'country': 'US',\n",
       "    'state': 'OH',\n",
       "    'display_address': ['16757 State Rte 664 S', 'Logan, OH 43138']},\n",
       "   'phone': '+17403852221',\n",
       "   'display_phone': '(740) 385-2221',\n",
       "   'distance': 8041.2994956838365},\n",
       "  {'id': 'YkqRMQCQ9GJFgVnChxUtDg',\n",
       "   'alias': 'pizza-hut-logan-3',\n",
       "   'name': 'Pizza Hut',\n",
       "   'image_url': 'https://s3-media1.fl.yelpcdn.com/bphoto/zR4pm99iqMflD9VowzuihQ/o.jpg',\n",
       "   'is_closed': False,\n",
       "   'url': 'https://www.yelp.com/biz/pizza-hut-logan-3?adjust_creative=l_1zZIAnKO6FPzv5VJxtuQ&utm_campaign=yelp_api_v3&utm_medium=api_v3_business_search&utm_source=l_1zZIAnKO6FPzv5VJxtuQ',\n",
       "   'review_count': 3,\n",
       "   'categories': [{'alias': 'pizza', 'title': 'Pizza'},\n",
       "    {'alias': 'chicken_wings', 'title': 'Chicken Wings'},\n",
       "    {'alias': 'hotdogs', 'title': 'Fast Food'}],\n",
       "   'rating': 3.5,\n",
       "   'coordinates': {'latitude': 39.5398204, 'longitude': -82.4366864},\n",
       "   'transactions': ['pickup'],\n",
       "   'price': '$',\n",
       "   'location': {'address1': '12876 State Route 664',\n",
       "    'address2': 'Ste B-7',\n",
       "    'address3': None,\n",
       "    'city': 'Logan',\n",
       "    'zip_code': '43138',\n",
       "    'country': 'US',\n",
       "    'state': 'OH',\n",
       "    'display_address': ['12876 State Route 664',\n",
       "     'Ste B-7',\n",
       "     'Logan, OH 43138']},\n",
       "   'phone': '+17403800030',\n",
       "   'display_phone': '(740) 380-0030',\n",
       "   'distance': 2231.1021695209292},\n",
       "  {'id': 'C9Hva9ka0MfBsxpOfXJDrA',\n",
       "   'alias': 'hocking-hills-winery-logan',\n",
       "   'name': 'Hocking Hills Winery',\n",
       "   'image_url': 'https://s3-media3.fl.yelpcdn.com/bphoto/Af9fep7TwUUHOY7xSKRxeQ/o.jpg',\n",
       "   'is_closed': False,\n",
       "   'url': 'https://www.yelp.com/biz/hocking-hills-winery-logan?adjust_creative=l_1zZIAnKO6FPzv5VJxtuQ&utm_campaign=yelp_api_v3&utm_medium=api_v3_business_search&utm_source=l_1zZIAnKO6FPzv5VJxtuQ',\n",
       "   'review_count': 123,\n",
       "   'categories': [{'alias': 'wineries', 'title': 'Wineries'}],\n",
       "   'rating': 4.0,\n",
       "   'coordinates': {'latitude': 39.5470095064139,\n",
       "    'longitude': -82.4528853354673},\n",
       "   'transactions': [],\n",
       "   'price': '$$',\n",
       "   'location': {'address1': '30402 Freeman Rd',\n",
       "    'address2': '',\n",
       "    'address3': '',\n",
       "    'city': 'Logan',\n",
       "    'zip_code': '43138',\n",
       "    'country': 'US',\n",
       "    'state': 'OH',\n",
       "    'display_address': ['30402 Freeman Rd', 'Logan, OH 43138']},\n",
       "   'phone': '+17403857117',\n",
       "   'display_phone': '(740) 385-7117',\n",
       "   'distance': 3785.7084815812623},\n",
       "  {'id': 'VVwvlnTgHE9X0knJYlLAnA',\n",
       "   'alias': 'hocking-hills-inn-and-coffee-emporium-logan',\n",
       "   'name': 'Hocking Hills Inn and Coffee Emporium',\n",
       "   'image_url': 'https://s3-media2.fl.yelpcdn.com/bphoto/KMywUHqs2kesMc7d3_edYA/o.jpg',\n",
       "   'is_closed': False,\n",
       "   'url': 'https://www.yelp.com/biz/hocking-hills-inn-and-coffee-emporium-logan?adjust_creative=l_1zZIAnKO6FPzv5VJxtuQ&utm_campaign=yelp_api_v3&utm_medium=api_v3_business_search&utm_source=l_1zZIAnKO6FPzv5VJxtuQ',\n",
       "   'review_count': 53,\n",
       "   'categories': [{'alias': 'coffee', 'title': 'Coffee & Tea'},\n",
       "    {'alias': 'hotels', 'title': 'Hotels'}],\n",
       "   'rating': 4.5,\n",
       "   'coordinates': {'latitude': 39.525834, 'longitude': -82.460762},\n",
       "   'transactions': [],\n",
       "   'price': '$$',\n",
       "   'location': {'address1': '13984 OH-664 Scenic',\n",
       "    'address2': '',\n",
       "    'address3': None,\n",
       "    'city': 'Logan',\n",
       "    'zip_code': '43138',\n",
       "    'country': 'US',\n",
       "    'state': 'OH',\n",
       "    'display_address': ['13984 OH-664 Scenic', 'Logan, OH 43138']},\n",
       "   'phone': '+17403000020',\n",
       "   'display_phone': '(740) 300-0020',\n",
       "   'distance': 4393.442143152149},\n",
       "  {'id': 'nSIkF2KGzm_Vny454oj9zg',\n",
       "   'alias': 'dominos-pizza-logan-5',\n",
       "   'name': \"Domino's Pizza\",\n",
       "   'image_url': '',\n",
       "   'is_closed': False,\n",
       "   'url': 'https://www.yelp.com/biz/dominos-pizza-logan-5?adjust_creative=l_1zZIAnKO6FPzv5VJxtuQ&utm_campaign=yelp_api_v3&utm_medium=api_v3_business_search&utm_source=l_1zZIAnKO6FPzv5VJxtuQ',\n",
       "   'review_count': 3,\n",
       "   'categories': [{'alias': 'pizza', 'title': 'Pizza'},\n",
       "    {'alias': 'chicken_wings', 'title': 'Chicken Wings'},\n",
       "    {'alias': 'sandwiches', 'title': 'Sandwiches'}],\n",
       "   'rating': 2.5,\n",
       "   'coordinates': {'latitude': 39.5424995, 'longitude': -82.4230194},\n",
       "   'transactions': [],\n",
       "   'price': '$',\n",
       "   'location': {'address1': '1027 W Hunter St',\n",
       "    'address2': '',\n",
       "    'address3': '',\n",
       "    'city': 'Logan',\n",
       "    'zip_code': '43138',\n",
       "    'country': 'US',\n",
       "    'state': 'OH',\n",
       "    'display_address': ['1027 W Hunter St', 'Logan, OH 43138']},\n",
       "   'phone': '+17403859655',\n",
       "   'display_phone': '(740) 385-9655',\n",
       "   'distance': 1256.6788713569904},\n",
       "  {'id': 'NgCTLa01c8pd01VHUcfFYQ',\n",
       "   'alias': 'hungry-buffalo-logan',\n",
       "   'name': 'Hungry Buffalo',\n",
       "   'image_url': 'https://s3-media2.fl.yelpcdn.com/bphoto/P0bHr9t41lGTSCBe10E40g/o.jpg',\n",
       "   'is_closed': False,\n",
       "   'url': 'https://www.yelp.com/biz/hungry-buffalo-logan?adjust_creative=l_1zZIAnKO6FPzv5VJxtuQ&utm_campaign=yelp_api_v3&utm_medium=api_v3_business_search&utm_source=l_1zZIAnKO6FPzv5VJxtuQ',\n",
       "   'review_count': 151,\n",
       "   'categories': [{'alias': 'newamerican', 'title': 'American (New)'},\n",
       "    {'alias': 'sportsbars', 'title': 'Sports Bars'}],\n",
       "   'rating': 3.0,\n",
       "   'coordinates': {'latitude': 39.5437735348388,\n",
       "    'longitude': -82.4488271927292},\n",
       "   'transactions': ['pickup', 'delivery'],\n",
       "   'price': '$$',\n",
       "   'location': {'address1': '12762 Grey St',\n",
       "    'address2': '',\n",
       "    'address3': None,\n",
       "    'city': 'Logan',\n",
       "    'zip_code': '43138',\n",
       "    'country': 'US',\n",
       "    'state': 'OH',\n",
       "    'display_address': ['12762 Grey St', 'Logan, OH 43138']},\n",
       "   'phone': '+17403800088',\n",
       "   'display_phone': '(740) 380-0088',\n",
       "   'distance': 3346.3948359976825},\n",
       "  {'id': 'dSVoVJyYX3frxiGsgld_Xw',\n",
       "   'alias': 'urban-grille-logan-4',\n",
       "   'name': 'Urban Grille',\n",
       "   'image_url': 'https://s3-media2.fl.yelpcdn.com/bphoto/5uLQGXvYgipzkA3TMm8yzg/o.jpg',\n",
       "   'is_closed': False,\n",
       "   'url': 'https://www.yelp.com/biz/urban-grille-logan-4?adjust_creative=l_1zZIAnKO6FPzv5VJxtuQ&utm_campaign=yelp_api_v3&utm_medium=api_v3_business_search&utm_source=l_1zZIAnKO6FPzv5VJxtuQ',\n",
       "   'review_count': 33,\n",
       "   'categories': [{'alias': 'pubs', 'title': 'Pubs'},\n",
       "    {'alias': 'diners', 'title': 'Diners'},\n",
       "    {'alias': 'burgers', 'title': 'Burgers'}],\n",
       "   'rating': 4.0,\n",
       "   'coordinates': {'latitude': 39.518314, 'longitude': -82.3788031},\n",
       "   'transactions': ['pickup', 'delivery'],\n",
       "   'price': '$$',\n",
       "   'location': {'address1': '14405 Country Club Ln',\n",
       "    'address2': '',\n",
       "    'address3': 'Hocking Hills Golf Club',\n",
       "    'city': 'Logan',\n",
       "    'zip_code': '43138',\n",
       "    'country': 'US',\n",
       "    'state': 'OH',\n",
       "    'display_address': ['14405 Country Club Ln',\n",
       "     'Hocking Hills Golf Club',\n",
       "     'Logan, OH 43138']},\n",
       "   'phone': '+17403858966',\n",
       "   'display_phone': '(740) 385-8966',\n",
       "   'distance': 3391.541097245157},\n",
       "  {'id': 'VKGTndOUwTR-WDVaenSFBA',\n",
       "   'alias': 'old-mans-cave-general-store-logan',\n",
       "   'name': \"Old Man's Cave General Store\",\n",
       "   'image_url': 'https://s3-media3.fl.yelpcdn.com/bphoto/LXhnfrZ1vsWFjthJcxbIZg/o.jpg',\n",
       "   'is_closed': False,\n",
       "   'url': 'https://www.yelp.com/biz/old-mans-cave-general-store-logan?adjust_creative=l_1zZIAnKO6FPzv5VJxtuQ&utm_campaign=yelp_api_v3&utm_medium=api_v3_business_search&utm_source=l_1zZIAnKO6FPzv5VJxtuQ',\n",
       "   'review_count': 26,\n",
       "   'categories': [{'alias': 'grocery', 'title': 'Grocery'}],\n",
       "   'rating': 2.5,\n",
       "   'coordinates': {'latitude': 39.457677, 'longitude': -82.505612},\n",
       "   'transactions': [],\n",
       "   'price': '$',\n",
       "   'location': {'address1': '18809 State Rte 664 S',\n",
       "    'address2': None,\n",
       "    'address3': None,\n",
       "    'city': 'Logan',\n",
       "    'zip_code': '43138',\n",
       "    'country': 'US',\n",
       "    'state': 'OH',\n",
       "    'display_address': ['18809 State Rte 664 S', 'Logan, OH 43138']},\n",
       "   'phone': '+17403802564',\n",
       "   'display_phone': '(740) 380-2564',\n",
       "   'distance': 11879.22370385938},\n",
       "  {'id': 'rc_3wggo7NU5MMxwwlof3w',\n",
       "   'alias': 'little-caesars-pizza-logan-4',\n",
       "   'name': 'Little Caesars Pizza',\n",
       "   'image_url': 'https://s3-media2.fl.yelpcdn.com/bphoto/lXz4LPJhdRRlS2YwbAyyhQ/o.jpg',\n",
       "   'is_closed': False,\n",
       "   'url': 'https://www.yelp.com/biz/little-caesars-pizza-logan-4?adjust_creative=l_1zZIAnKO6FPzv5VJxtuQ&utm_campaign=yelp_api_v3&utm_medium=api_v3_business_search&utm_source=l_1zZIAnKO6FPzv5VJxtuQ',\n",
       "   'review_count': 2,\n",
       "   'categories': [{'alias': 'hotdogs', 'title': 'Fast Food'}],\n",
       "   'rating': 1.0,\n",
       "   'coordinates': {'latitude': 39.54319, 'longitude': -82.42779},\n",
       "   'transactions': [],\n",
       "   'price': '$',\n",
       "   'location': {'address1': '1375 W Hunter St',\n",
       "    'address2': '',\n",
       "    'address3': '',\n",
       "    'city': 'Logan',\n",
       "    'zip_code': '43138',\n",
       "    'country': 'US',\n",
       "    'state': 'OH',\n",
       "    'display_address': ['1375 W Hunter St', 'Logan, OH 43138']},\n",
       "   'phone': '+17403803300',\n",
       "   'display_phone': '(740) 380-3300',\n",
       "   'distance': 1647.6669370237896},\n",
       "  {'id': 'v2hoe0FUNO1AjjyqGSUVEQ',\n",
       "   'alias': 'subway-logan-14',\n",
       "   'name': 'Subway',\n",
       "   'image_url': 'https://s3-media4.fl.yelpcdn.com/bphoto/3LZDpQAuXL8m4QJTc7DDpQ/o.jpg',\n",
       "   'is_closed': False,\n",
       "   'url': 'https://www.yelp.com/biz/subway-logan-14?adjust_creative=l_1zZIAnKO6FPzv5VJxtuQ&utm_campaign=yelp_api_v3&utm_medium=api_v3_business_search&utm_source=l_1zZIAnKO6FPzv5VJxtuQ',\n",
       "   'review_count': 4,\n",
       "   'categories': [{'alias': 'sandwiches', 'title': 'Sandwiches'}],\n",
       "   'rating': 1.5,\n",
       "   'coordinates': {'latitude': 39.5414854026754,\n",
       "    'longitude': -82.4161439927742},\n",
       "   'transactions': ['delivery'],\n",
       "   'price': '$',\n",
       "   'location': {'address1': '503 W Hunter St',\n",
       "    'address2': '',\n",
       "    'address3': '',\n",
       "    'city': 'Logan',\n",
       "    'zip_code': '43138',\n",
       "    'country': 'US',\n",
       "    'state': 'OH',\n",
       "    'display_address': ['503 W Hunter St', 'Logan, OH 43138']},\n",
       "   'phone': '+17403851194',\n",
       "   'display_phone': '(740) 385-1194',\n",
       "   'distance': 760.540780036724},\n",
       "  {'id': '40xQDmR-qMNaa6aVUOQQWQ',\n",
       "   'alias': 'taco-bell-logan-8',\n",
       "   'name': 'Taco Bell',\n",
       "   'image_url': 'https://s3-media1.fl.yelpcdn.com/bphoto/u1SqG4SivlqQAR-9rvsGLA/o.jpg',\n",
       "   'is_closed': False,\n",
       "   'url': 'https://www.yelp.com/biz/taco-bell-logan-8?adjust_creative=l_1zZIAnKO6FPzv5VJxtuQ&utm_campaign=yelp_api_v3&utm_medium=api_v3_business_search&utm_source=l_1zZIAnKO6FPzv5VJxtuQ',\n",
       "   'review_count': 1,\n",
       "   'categories': [{'alias': 'mexican', 'title': 'Mexican'},\n",
       "    {'alias': 'hotdogs', 'title': 'Fast Food'}],\n",
       "   'rating': 5.0,\n",
       "   'coordinates': {'latitude': 39.5425301530258,\n",
       "    'longitude': -82.4264069193996},\n",
       "   'transactions': ['delivery'],\n",
       "   'price': '$',\n",
       "   'location': {'address1': '1301 W Hunter St',\n",
       "    'address2': '',\n",
       "    'address3': None,\n",
       "    'city': 'Logan',\n",
       "    'zip_code': '43138',\n",
       "    'country': 'US',\n",
       "    'state': 'OH',\n",
       "    'display_address': ['1301 W Hunter St', 'Logan, OH 43138']},\n",
       "   'phone': '+17403855233',\n",
       "   'display_phone': '(740) 385-5233',\n",
       "   'distance': 1503.4001619664646}],\n",
       " 'total': 14,\n",
       " 'region': {'center': {'longitude': -82.41119384765625,\n",
       "   'latitude': 39.53581017789831}}}"
      ]
     },
     "execution_count": 14,
     "metadata": {},
     "output_type": "execute_result"
    }
   ],
   "source": [
    "## How many results total?\n",
    "results"
   ]
  },
  {
   "cell_type": "markdown",
   "metadata": {},
   "source": [
    "- Where is the actual data we want to save?"
   ]
  },
  {
   "cell_type": "code",
   "execution_count": null,
   "metadata": {},
   "outputs": [],
   "source": []
  },
  {
   "cell_type": "code",
   "execution_count": 15,
   "metadata": {},
   "outputs": [],
   "source": [
    "## How many did we get the details for?\n",
    "results_per_page = \n",
    "results_per_page"
   ]
  },
  {
   "cell_type": "markdown",
   "metadata": {},
   "source": [
    "- Calculate how many pages of results needed to cover the total_results"
   ]
  },
  {
   "cell_type": "code",
   "execution_count": null,
   "metadata": {},
   "outputs": [],
   "source": [
    "# Use math.ceil to round up for the total number of pages of results.\n"
   ]
  },
  {
   "cell_type": "code",
   "execution_count": null,
   "metadata": {},
   "outputs": [],
   "source": [
    "for i in tqdm_notebook( range(1,n_pages+1)):\n",
    "    ## The block of code we want to TRY to run\n",
    "        \n",
    "        \n",
    "        ## Read in results in progress file and check the length\n",
    "\n",
    "        \n",
    "        ## save number of results for to use as offset\n",
    "        \n",
    "        \n",
    "        \n",
    "        ## use n_results as the OFFSET \n",
    "        \n",
    "\n",
    "        ## append new results and save to file\n",
    "        \n",
    "\n",
    "            \n",
    "    ## What to do if we get an error/exception.\n",
    "        \n"
   ]
  },
  {
   "cell_type": "markdown",
   "metadata": {},
   "source": [
    "## Open the Final JSON File with Pandas"
   ]
  },
  {
   "cell_type": "code",
   "execution_count": null,
   "metadata": {},
   "outputs": [],
   "source": [
    "df = None"
   ]
  },
  {
   "cell_type": "code",
   "execution_count": null,
   "metadata": {},
   "outputs": [],
   "source": [
    "## convert the filename to a .csv.gz\n",
    "csv_file = JSON_FILE.replace('.json','.csv.gz')\n",
    "csv_file"
   ]
  },
  {
   "cell_type": "code",
   "execution_count": null,
   "metadata": {},
   "outputs": [],
   "source": [
    "## Save it as a compressed csv (to save space)\n"
   ]
  },
  {
   "cell_type": "markdown",
   "metadata": {},
   "source": [
    "## Bonus: compare filesize with os module's `os.path.getsize`"
   ]
  },
  {
   "cell_type": "code",
   "execution_count": null,
   "metadata": {},
   "outputs": [],
   "source": [
    "size_json = os.path.getsize(JSON_FILE)\n",
    "size_csv_gz = os.path.getsize(JSON_FILE.replace('.json','.csv.gz'))\n",
    "\n",
    "print(f'JSON FILE: {size_json:,} Bytes')\n",
    "print(f'CSV.GZ FILE: {size_csv_gz:,} Bytes')\n",
    "\n",
    "print(f'the csv.gz is {size_json/size_csv_gz} times smaller!')"
   ]
  },
  {
   "cell_type": "markdown",
   "metadata": {},
   "source": [
    "## Next Class: Processing the Results and Mapping "
   ]
  }
 ],
 "metadata": {
  "colab": {
   "collapsed_sections": [],
   "name": "Test Yelp API Package.ipynb",
   "provenance": []
  },
  "kernelspec": {
   "display_name": "Python 3 (ipykernel)",
   "language": "python",
   "name": "python3"
  },
  "language_info": {
   "codemirror_mode": {
    "name": "ipython",
    "version": 3
   },
   "file_extension": ".py",
   "mimetype": "text/x-python",
   "name": "python",
   "nbconvert_exporter": "python",
   "pygments_lexer": "ipython3",
   "version": "3.8.13"
  },
  "toc": {
   "base_numbering": 1,
   "nav_menu": {},
   "number_sections": false,
   "sideBar": true,
   "skip_h1_title": false,
   "title_cell": "Table of Contents",
   "title_sidebar": "Contents",
   "toc_cell": false,
   "toc_position": {
    "height": "calc(100% - 180px)",
    "left": "10px",
    "top": "150px",
    "width": "165px"
   },
   "toc_section_display": true,
   "toc_window_display": false
  }
 },
 "nbformat": 4,
 "nbformat_minor": 1
}
